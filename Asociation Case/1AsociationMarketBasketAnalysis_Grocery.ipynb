{
  "nbformat": 4,
  "nbformat_minor": 0,
  "metadata": {
    "colab": {
      "name": "AsociationMarketBasketAnalysis_Grocery.ipynb",
      "provenance": []
    },
    "kernelspec": {
      "name": "python3",
      "display_name": "Python 3"
    }
  },
  "cells": [
    {
      "cell_type": "markdown",
      "metadata": {
        "id": "0_lqMW8Ej_w1"
      },
      "source": [
        "#**ASSOCIATION - MARKET BASKET ANALYSIS**"
      ]
    },
    {
      "cell_type": "markdown",
      "metadata": {
        "id": "KdTa92G9kEdT"
      },
      "source": [
        "This File contains information about Customers buying different grocery items at a Mall."
      ]
    },
    {
      "cell_type": "markdown",
      "metadata": {
        "id": "TBRv62oakHcC"
      },
      "source": [
        "## 1. Install & import libraries "
      ]
    },
    {
      "cell_type": "code",
      "metadata": {
        "id": "AgwzmY0_j9Tr"
      },
      "source": [
        "# Need to install apyori first\n",
        "!pip install apyori"
      ],
      "execution_count": null,
      "outputs": []
    },
    {
      "cell_type": "code",
      "metadata": {
        "id": "Ve_B3EZHkKYB"
      },
      "source": [
        "# Import the libraries\n",
        "import numpy as np\n",
        "import matplotlib.pyplot as plt\n",
        "import pandas as pd\n",
        "import seaborn as sns\n",
        "from apyori import apriori\n",
        "from wordcloud import WordCloud"
      ],
      "execution_count": null,
      "outputs": []
    },
    {
      "cell_type": "markdown",
      "metadata": {
        "id": "uYl1eM3bkOpT"
      },
      "source": [
        "## 2. Open our dataset"
      ]
    },
    {
      "cell_type": "code",
      "metadata": {
        "id": "gGen_2_fkQBN"
      },
      "source": [
        "# Import data local\n",
        "from google.colab import files\n",
        "uploaded = files.upload()"
      ],
      "execution_count": null,
      "outputs": []
    },
    {
      "cell_type": "code",
      "metadata": {
        "id": "x8XYKh3ZkYoi"
      },
      "source": [
        "#open our dataset \n",
        "grocery_item = pd.read_csv('Market_Basket_Optimisation.csv', header = None)"
      ],
      "execution_count": null,
      "outputs": []
    },
    {
      "cell_type": "code",
      "metadata": {
        "id": "B6Pbd3x_kchE"
      },
      "source": [
        "#see Row dan Column \n",
        "grocery_item.shape"
      ],
      "execution_count": null,
      "outputs": []
    },
    {
      "cell_type": "markdown",
      "metadata": {
        "id": "EcsxMmdskgOF"
      },
      "source": [
        "We have 7501 row, 20 column "
      ]
    },
    {
      "cell_type": "code",
      "metadata": {
        "id": "2sI1wjjUkhRe"
      },
      "source": [
        "#check sample in dataset\n",
        "grocery_item.sample(10)"
      ],
      "execution_count": null,
      "outputs": []
    },
    {
      "cell_type": "markdown",
      "metadata": {
        "id": "BT5T2hmlklv4"
      },
      "source": [
        "## 3. Visualisasi data"
      ]
    },
    {
      "cell_type": "markdown",
      "metadata": {
        "id": "DW0P2_t3koFW"
      },
      "source": [
        "1. Wordcloud "
      ]
    },
    {
      "cell_type": "code",
      "metadata": {
        "id": "1k08R79fkjfT"
      },
      "source": [
        "#Hasil Visualisasi Menggunakan wordcloud\n",
        "import matplotlib.pyplot as plt\n",
        "import seaborn as sns\n",
        "\n",
        "from wordcloud import WordCloud\n",
        "\n",
        "plt.rcParams['figure.figsize'] = (15, 15)\n",
        "wordcloud = WordCloud(background_color = 'white', width = 1200,  height = 1200, max_words = 121).generate(str(grocery_item[0]))\n",
        "plt.imshow(wordcloud)\n",
        "plt.axis('off')\n",
        "plt.title('Most Popular Items',fontsize = 15)\n",
        "plt.show()"
      ],
      "execution_count": null,
      "outputs": []
    },
    {
      "cell_type": "markdown",
      "metadata": {
        "id": "1-IaEn4mktc0"
      },
      "source": [
        "Wordcloud still subjective, check the barchart\n",
        "2. Barchart"
      ]
    },
    {
      "cell_type": "code",
      "metadata": {
        "id": "38-7u9Weku8g"
      },
      "source": [
        "#Visualisasi dn \n",
        "plt.rcParams['figure.figsize'] = (18, 7)\n",
        "color = plt.cm.copper(np.linspace(0, 1, 40))\n",
        "grocery_item[0].value_counts().head(40).plot.bar(color = color)\n",
        "plt.title('frequency of most popular items', fontsize = 20)\n",
        "plt.xticks(rotation = 90 )\n",
        "plt.grid()\n",
        "plt.show()"
      ],
      "execution_count": null,
      "outputs": []
    },
    {
      "cell_type": "markdown",
      "metadata": {
        "id": "I0HDmVtEkzuu"
      },
      "source": [
        "3. Tree Map"
      ]
    },
    {
      "cell_type": "code",
      "metadata": {
        "id": "FEi4V6N3kxU0"
      },
      "source": [
        "#install suarify \n",
        "! pip install squarify\n"
      ],
      "execution_count": null,
      "outputs": []
    },
    {
      "cell_type": "code",
      "metadata": {
        "id": "bAlLA8nck2U6"
      },
      "source": [
        "# Visualization using tree map \n",
        "import squarify\n",
        "y = grocery_item[0].value_counts().head(50).to_frame()\n",
        "y.index\n",
        "# plotting a tree map\n",
        "plt.rcParams['figure.figsize'] = (20,10)\n",
        "color = plt.cm.cool(np.linspace(0, 1, 50))\n",
        "squarify.plot (sizes = y.values, label = y.index, alpha=.8, color = color)\n",
        "plt.title('Tree Map for Popular Items in our grocery',fontsize = 20)\n",
        "plt.axis('off')\n",
        "plt.show()"
      ],
      "execution_count": null,
      "outputs": []
    },
    {
      "cell_type": "markdown",
      "metadata": {
        "id": "_y1IL1rbk9QA"
      },
      "source": [
        "## Preprocesing data "
      ]
    },
    {
      "cell_type": "code",
      "metadata": {
        "id": "T05hxHw1k7Kt"
      },
      "source": [
        "# Data preprocessing\n",
        "transactions = []\n",
        "for i in range(0, 7501):\n",
        "  transactions.append([str(grocery_item.values[i,j]) for j in range(0, 20)])"
      ],
      "execution_count": null,
      "outputs": []
    },
    {
      "cell_type": "code",
      "metadata": {
        "id": "RBRTkrDok_RG"
      },
      "source": [
        "# conveting it into an numpy array\n",
        "transactions = np.array(transactions)"
      ],
      "execution_count": null,
      "outputs": []
    },
    {
      "cell_type": "code",
      "metadata": {
        "id": "fjqMhbfrlBAy"
      },
      "source": [
        "# checking the shape of the array\n",
        "print(transactions.shape)"
      ],
      "execution_count": null,
      "outputs": []
    },
    {
      "cell_type": "markdown",
      "metadata": {
        "id": "gsZLKTq5lEVb"
      },
      "source": [
        "Use Transaction Encoder, the data dimension show 7501 - 121"
      ]
    },
    {
      "cell_type": "code",
      "metadata": {
        "id": "o8EepkDClCvA"
      },
      "source": [
        "import pandas as pd\n",
        "from mlxtend.preprocessing import TransactionEncoder\n",
        "\n",
        "te = TransactionEncoder()\n",
        "data = te.fit_transform(transactions)\n",
        "data = pd.DataFrame(data, columns = te.columns_)\n",
        "# getting the shape of the data\n",
        "data.shape"
      ],
      "execution_count": null,
      "outputs": []
    },
    {
      "cell_type": "markdown",
      "metadata": {
        "id": "UxgabVhnlIeU"
      },
      "source": [
        "121?  to much column, we need to reduce it to 40 "
      ]
    },
    {
      "cell_type": "code",
      "metadata": {
        "id": "rWDVRzs9lKBg"
      },
      "source": [
        "import warnings\n",
        "warnings.filterwarnings('ignore')\n",
        "\n",
        "# getting correlations for 121 items would be messy \n",
        "# so let's reduce the items from 121 to 40\n",
        "\n",
        "data = data.loc[:, ['mineral water', 'burgers', 'turkey', 'chocolate', 'frozen vegetables', 'spaghetti',\n",
        "                    'shrimp', 'grated cheese', 'eggs', 'cookies', 'french fries', 'herb & pepper', 'ground beef',\n",
        "                    'tomatoes', 'milk', 'escalope', 'fresh tuna', 'red wine', 'ham', 'cake', 'green tea',\n",
        "                    'whole wheat pasta', 'pancakes', 'soup', 'muffins', 'energy bar', 'olive oil', 'champagne', \n",
        "                    'avocado', 'pepper', 'butter', 'parmesan cheese', 'whole wheat rice', 'low fat yogurt', \n",
        "                    'chicken', 'vegetables mix', 'pickles', 'meatballs', 'frozen smoothie', 'yogurt cake']]\n",
        "# getting the shape of the data\n",
        "data.shape"
      ],
      "execution_count": null,
      "outputs": []
    },
    {
      "cell_type": "code",
      "metadata": {
        "id": "RfYP-f1DlOQK"
      },
      "source": [
        "# let's check the columns\n",
        "\n",
        "data.columns"
      ],
      "execution_count": null,
      "outputs": []
    },
    {
      "cell_type": "markdown",
      "metadata": {
        "id": "ToERQCgklQSo"
      },
      "source": [
        "## Algoritma Apriori (Asociation Rules) "
      ]
    },
    {
      "cell_type": "code",
      "metadata": {
        "id": "hU20v8PClRO4"
      },
      "source": [
        "from mlxtend.frequent_patterns import apriori\n",
        "\n",
        "#Now, let us return the items and itemsets with at least min 0.01 support:\n",
        "apriori(data, min_support = 0.01, use_colnames = True)"
      ],
      "execution_count": null,
      "outputs": []
    },
    {
      "cell_type": "markdown",
      "metadata": {
        "id": "B48WAGyXlVZ6"
      },
      "source": [
        "set rules rules with  length = 2, dan support more than 0.01"
      ]
    },
    {
      "cell_type": "code",
      "metadata": {
        "id": "7StZCxILlTJp"
      },
      "source": [
        "frequent_itemsets = apriori(data, min_support = 0.05, use_colnames=True)\n",
        "frequent_itemsets['length'] = frequent_itemsets['itemsets'].apply(lambda x: len(x))\n",
        "# getting th item sets with length = 2 and support more than 1%\n",
        "\n",
        "frequent_itemsets[ (frequent_itemsets['length'] == 2) &\n",
        "                   (frequent_itemsets['support'] >= 0.01) ]"
      ],
      "execution_count": null,
      "outputs": []
    },
    {
      "cell_type": "markdown",
      "metadata": {
        "id": "gJGzsYSDlZ8R"
      },
      "source": [
        "we have three rules, pick the higest rules 0.059 (mineral water & Spaghetti) if you are buying spaghetti, usually you will buy mineral water"
      ]
    }
  ]
}